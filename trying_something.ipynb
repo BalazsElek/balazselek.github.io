{
 "cells": [
  {
   "cell_type": "code",
   "execution_count": 1,
   "id": "17f068e4-d3c4-4a77-888e-b35e966d5049",
   "metadata": {},
   "outputs": [],
   "source": [
    "import numpy as np\n",
    "import sympy as sp"
   ]
  },
  {
   "cell_type": "code",
   "execution_count": 2,
   "id": "a4960bda-5773-4503-9ea9-4745118b6f69",
   "metadata": {},
   "outputs": [],
   "source": [
    "A = np.array([[1,-2,1],[3,1,5],[-1,-1,-1]])"
   ]
  },
  {
   "cell_type": "code",
   "execution_count": 3,
   "id": "09bd46a8-afb5-4690-a946-272a968199fd",
   "metadata": {},
   "outputs": [],
   "source": [
    "Ared = sp.Matrix(A).rref()"
   ]
  },
  {
   "cell_type": "code",
   "execution_count": 5,
   "id": "121a8a14-aa62-4955-bab4-65c2d9908769",
   "metadata": {},
   "outputs": [],
   "source": [
    "B = np.array([[1,-8,0,-7],[0,0,1,4],[0,0,0,0]])"
   ]
  },
  {
   "cell_type": "code",
   "execution_count": 10,
   "id": "a3d1b1ca-26b9-4151-936a-cab67e05aa7c",
   "metadata": {},
   "outputs": [],
   "source": [
    "Bred = sp.Matrix(B).rref()"
   ]
  },
  {
   "cell_type": "code",
   "execution_count": null,
   "id": "f4feff9f-d24f-425b-b9e7-d93097eb1ec6",
   "metadata": {},
   "outputs": [],
   "source": []
  }
 ],
 "metadata": {
  "kernelspec": {
   "display_name": "Python 3 (ipykernel)",
   "language": "python",
   "name": "python3"
  },
  "language_info": {
   "codemirror_mode": {
    "name": "ipython",
    "version": 3
   },
   "file_extension": ".py",
   "mimetype": "text/x-python",
   "name": "python",
   "nbconvert_exporter": "python",
   "pygments_lexer": "ipython3",
   "version": "3.11.4"
  }
 },
 "nbformat": 4,
 "nbformat_minor": 5
}
